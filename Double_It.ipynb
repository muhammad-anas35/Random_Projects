{
 "cells": [
  {
   "cell_type": "markdown",
   "metadata": {},
   "source": [
    "# ***Programme NO 2***"
   ]
  },
  {
   "cell_type": "markdown",
   "metadata": {},
   "source": [
    "## ***Double_It***"
   ]
  },
  {
   "cell_type": "code",
   "execution_count": 1,
   "metadata": {},
   "outputs": [
    {
     "name": "stdout",
     "output_type": "stream",
     "text": [
      "6 Double  is 12\n",
      "12 Double  is 24\n",
      "24 Double  is 48\n",
      "48 Double  is 96\n",
      "96 Double  is 192\n",
      "192 Double  is 384\n"
     ]
    }
   ],
   "source": [
    "prompt : str =\"Enter number '1 to 9' to Execute the Programme : \"\n",
    "\n",
    "\n",
    "def main():\n",
    "  try:\n",
    "    user_input = int(input(prompt))\n",
    "  except ValueError:\n",
    "      print(\"Invalid input. Please enter a number between 1 and 9.\")\n",
    "      return\n",
    "  while user_input < 200:\n",
    "    user_vaule = user_input\n",
    "    user_input = user_input * 2\n",
    "\n",
    "    print(f\"{user_vaule} Double  is {user_input}\")\n",
    "\n",
    "if __name__ == \"__main__\":\n",
    "  main()\n",
    "  "
   ]
  }
 ],
 "metadata": {
  "kernelspec": {
   "display_name": "Python 3",
   "language": "python",
   "name": "python3"
  },
  "language_info": {
   "codemirror_mode": {
    "name": "ipython",
    "version": 3
   },
   "file_extension": ".py",
   "mimetype": "text/x-python",
   "name": "python",
   "nbconvert_exporter": "python",
   "pygments_lexer": "ipython3",
   "version": "3.13.0"
  }
 },
 "nbformat": 4,
 "nbformat_minor": 2
}
