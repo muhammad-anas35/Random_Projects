{
 "cells": [
  {
   "cell_type": "markdown",
   "metadata": {},
   "source": [
    "# ***Programme No 3***\n"
   ]
  },
  {
   "cell_type": "markdown",
   "metadata": {},
   "source": [
    "# ***Lift Off***"
   ]
  },
  {
   "cell_type": "code",
   "execution_count": null,
   "metadata": {},
   "outputs": [],
   "source": [
    "def lift_off():\n",
    "  for i in  range(11,1,-1):\n",
    "    print(i ,end=' ')\n",
    "  print(\"Lift_off\")\n",
    "\n",
    "if __name__ == '__main__':\n",
    "    lift_off()"
   ]
  }
 ],
 "metadata": {
  "language_info": {
   "name": "python"
  }
 },
 "nbformat": 4,
 "nbformat_minor": 2
}
