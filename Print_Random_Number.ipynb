{
 "cells": [
  {
   "cell_type": "markdown",
   "metadata": {},
   "source": [
    "# ***Programme No 4***"
   ]
  },
  {
   "cell_type": "markdown",
   "metadata": {},
   "source": [
    "# ***Print_Random_Number***"
   ]
  },
  {
   "cell_type": "code",
   "execution_count": 2,
   "metadata": {},
   "outputs": [
    {
     "name": "stdout",
     "output_type": "stream",
     "text": [
      "93 45 67 89 19 2 70 73 33 28 Ten Time Random number.\n"
     ]
    }
   ],
   "source": [
    "import random \n",
    "\n",
    "N_NUMBERS: int = 10\n",
    "MIN_VALUE: int = 1\n",
    "MAX_VALUE: int = 100\n",
    "\n",
    "def main():\n",
    "  for i in range(N_NUMBERS):\n",
    "    random_number = random.randint(MIN_VALUE,MAX_VALUE)\n",
    "    print(random_number , end=' ')\n",
    "  print(\"Ten Time Random number.\")\n",
    "\n",
    "if __name__ == '__main__':\n",
    "  main()"
   ]
  }
 ],
 "metadata": {
  "kernelspec": {
   "display_name": "Python 3",
   "language": "python",
   "name": "python3"
  },
  "language_info": {
   "codemirror_mode": {
    "name": "ipython",
    "version": 3
   },
   "file_extension": ".py",
   "mimetype": "text/x-python",
   "name": "python",
   "nbconvert_exporter": "python",
   "pygments_lexer": "ipython3",
   "version": "3.13.0"
  }
 },
 "nbformat": 4,
 "nbformat_minor": 2
}
